{
 "cells": [
  {
   "cell_type": "code",
   "execution_count": 2,
   "metadata": {},
   "outputs": [],
   "source": [
    "import numpy as np"
   ]
  },
  {
   "cell_type": "code",
   "execution_count": 3,
   "metadata": {},
   "outputs": [],
   "source": [
    "def x1_n(x1,x2):\n",
    "    return x1 + x2\n",
    "\n",
    "def x2_n(x2, u):\n",
    "    return x2 + u"
   ]
  },
  {
   "cell_type": "code",
   "execution_count": 10,
   "metadata": {},
   "outputs": [
    {
     "name": "stdout",
     "output_type": "stream",
     "text": [
      "key:  \n",
      "[0 2]\n",
      "value: \n",
      "[[2 1]\n",
      " [2 2]\n",
      " [2 3]]\n",
      "key:  \n",
      "[1 2]\n",
      "value: \n",
      "[[3 1]\n",
      " [3 2]\n",
      " [3 3]]\n",
      "key:  \n",
      "[2 2]\n",
      "value: \n",
      "[[4 1]\n",
      " [4 2]\n",
      " [4 3]]\n",
      "key:  \n",
      "[0 1]\n",
      "value: \n",
      "[[1 0]\n",
      " [1 1]\n",
      " [1 2]]\n",
      "key:  \n",
      "[1 1]\n",
      "value: \n",
      "[[2 0]\n",
      " [2 1]\n",
      " [2 2]]\n",
      "key:  \n",
      "[2 1]\n",
      "value: \n",
      "[[3 0]\n",
      " [3 1]\n",
      " [3 2]]\n",
      "key:  \n",
      "[0 0]\n",
      "value: \n",
      "[[ 0 -1]\n",
      " [ 0  0]\n",
      " [ 0  1]]\n",
      "key:  \n",
      "[1 0]\n",
      "value: \n",
      "[[ 1 -1]\n",
      " [ 1  0]\n",
      " [ 1  1]]\n",
      "key:  \n",
      "[2 0]\n",
      "value: \n",
      "[[ 2 -1]\n",
      " [ 2  0]\n",
      " [ 2  1]]\n"
     ]
    }
   ],
   "source": [
    "u = np.array([-1,0,1])\n",
    "state = np.array([\n",
    "                [0,2],[1,2],[2,2],\n",
    "                [0,1],[1,1],[2,1],\n",
    "                [0,0],[1,0],[2,0] ])\n",
    "\n",
    "\n",
    "state_n = {str(i) : np.array( [[x1_n(i[0],i[1]), x2_n(i[1], u[0])],\n",
    "                                [x1_n(i[0],i[1]), x2_n(i[1], u[1])],\n",
    "                                [x1_n(i[0],i[1]), x2_n(i[1], u[2])]] ) for i in state}\n",
    "for key in state_n:\n",
    "    print(\"key:  \")\n",
    "    print(key)\n",
    "    print(\"value: \")\n",
    "    print(state_n[key])"
   ]
  },
  {
   "cell_type": "code",
   "execution_count": 16,
   "metadata": {},
   "outputs": [
    {
     "name": "stdout",
     "output_type": "stream",
     "text": [
      "start\n",
      "[-10  50]\n",
      "mid\n",
      "[ 40 -10]\n",
      "end\n",
      "[30 31]\n",
      "goal\n",
      "[30 31]\n"
     ]
    }
   ],
   "source": [
    "starting = np.array([\n",
    "    -10,50\n",
    "])\n",
    "ending = np.array([\n",
    "    30,31\n",
    "])\n",
    "\n",
    "u1 = ending[0] - starting[0] - 2*starting[1]\n",
    "u2 = ending[1] - starting[1] - u1\n",
    "s1x = x1_n(starting[0],starting[1])\n",
    "s1y = x2_n(starting[1],u1)\n",
    "mid = np.array([s1x,s1y])\n",
    "end = np.array([x1_n(s1x,s1y),x2_n(s1y,u2)])\n",
    "print(\"start\")\n",
    "print(starting)\n",
    "print(\"mid\")\n",
    "print(mid)\n",
    "print(\"end\")\n",
    "print(end)\n",
    "print(\"goal\")\n",
    "print(ending)"
   ]
  },
  {
   "cell_type": "code",
   "execution_count": null,
   "metadata": {},
   "outputs": [],
   "source": []
  }
 ],
 "metadata": {
  "kernelspec": {
   "display_name": "drake_ua",
   "language": "python",
   "name": "python3"
  },
  "language_info": {
   "codemirror_mode": {
    "name": "ipython",
    "version": 3
   },
   "file_extension": ".py",
   "mimetype": "text/x-python",
   "name": "python",
   "nbconvert_exporter": "python",
   "pygments_lexer": "ipython3",
   "version": "3.8.10"
  }
 },
 "nbformat": 4,
 "nbformat_minor": 2
}
