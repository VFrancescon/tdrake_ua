{
 "cells": [
  {
   "cell_type": "code",
   "execution_count": 1,
   "metadata": {},
   "outputs": [],
   "source": [
    "import numpy as np"
   ]
  },
  {
   "cell_type": "code",
   "execution_count": 2,
   "metadata": {},
   "outputs": [],
   "source": [
    "def x1_n(x1,x2):\n",
    "    return x1 + x2\n",
    "\n",
    "def x2_n(x2, u):\n",
    "    return x2 + u"
   ]
  },
  {
   "cell_type": "code",
   "execution_count": 58,
   "metadata": {},
   "outputs": [
    {
     "name": "stdout",
     "output_type": "stream",
     "text": [
      "[3 1]\n",
      "[3 2]\n",
      "[3 3]\n"
     ]
    }
   ],
   "source": [
    "u = np.array([-1,0,1])\n",
    "x1 = 1\n",
    "x2 = 2\n",
    "x2_n1 = x2_n(x2,u)\n",
    "x1_n1 = np.array( [x2_n(x1,x2), x2_n(x1,x2), x2_n(x1,x2)] )\n",
    "# concatenate x1_n1 and x2_n1 into a 2x3 matrix\n",
    "matrix = np.array([x1_n1, x2_n1])\n",
    "\n",
    "# print columns individually\n",
    "for i in range(matrix.shape[1]):\n",
    "    print(matrix[:,i])\n",
    "\n"
   ]
  }
 ],
 "metadata": {
  "kernelspec": {
   "display_name": "drake_ua",
   "language": "python",
   "name": "python3"
  },
  "language_info": {
   "codemirror_mode": {
    "name": "ipython",
    "version": 3
   },
   "file_extension": ".py",
   "mimetype": "text/x-python",
   "name": "python",
   "nbconvert_exporter": "python",
   "pygments_lexer": "ipython3",
   "version": "3.8.10"
  }
 },
 "nbformat": 4,
 "nbformat_minor": 2
}
